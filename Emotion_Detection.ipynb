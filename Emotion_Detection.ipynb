{
 "cells": [
  {
   "cell_type": "code",
   "execution_count": 1,
   "id": "f689f18c",
   "metadata": {},
   "outputs": [
    {
     "name": "stderr",
     "output_type": "stream",
     "text": [
      "D:\\Akshaya\\Annnnacoonda\\lib\\site-packages\\scipy\\__init__.py:146: UserWarning: A NumPy version >=1.16.5 and <1.23.0 is required for this version of SciPy (detected version 1.25.2\n",
      "  warnings.warn(f\"A NumPy version >={np_minversion} and <{np_maxversion}\"\n"
     ]
    }
   ],
   "source": [
    "import tensorflow as tf"
   ]
  },
  {
   "cell_type": "code",
   "execution_count": 2,
   "id": "acce478c",
   "metadata": {},
   "outputs": [
    {
     "name": "stdout",
     "output_type": "stream",
     "text": [
      "Requirement already satisfied: Keras-Preprocessing in d:\\akshaya\\annnnacoonda\\lib\\site-packages (1.1.2)\n",
      "Requirement already satisfied: six>=1.9.0 in d:\\akshaya\\annnnacoonda\\lib\\site-packages (from Keras-Preprocessing) (1.16.0)\n",
      "Requirement already satisfied: numpy>=1.9.1 in d:\\akshaya\\annnnacoonda\\lib\\site-packages (from Keras-Preprocessing) (1.25.2)\n",
      "Note: you may need to restart the kernel to use updated packages.\n"
     ]
    }
   ],
   "source": [
    "pip install Keras-Preprocessing"
   ]
  },
  {
   "cell_type": "code",
   "execution_count": 7,
   "id": "2c1ff8f4",
   "metadata": {},
   "outputs": [],
   "source": [
    "from keras.utils import to_categorical\n",
    "from keras_preprocessing.image import load_img\n",
    "from keras.models import Sequential\n",
    "from keras.layers import Dense, Conv2D, Dropout, Flatten, MaxPooling2D\n",
    "import os\n",
    "import pandas as pd\n",
    "import numpy as np"
   ]
  },
  {
   "cell_type": "code",
   "execution_count": 4,
   "id": "d6c693f4",
   "metadata": {},
   "outputs": [],
   "source": [
    "Train_dir = \"C:/Users/Sbala/Emotion/Images/Train\"\n",
    "Test_dir = \"C:/Users/Sbala/Emotion/Images/Test\""
   ]
  },
  {
   "cell_type": "code",
   "execution_count": 5,
   "id": "f5a1157a",
   "metadata": {},
   "outputs": [],
   "source": [
    "def createdataframe(dir):\n",
    "    image_paths = []\n",
    "    labels =[]\n",
    "    for label in os.listdir(dir):\n",
    "        for imagename in os.listdir(os.path.join(dir,label)):\n",
    "            image_paths.append(os.path.join(dir,label,imagename))\n",
    "            labels.append(label)\n",
    "        print(label, \"Completed\")\n",
    "    return image_paths, labels"
   ]
  },
  {
   "cell_type": "code",
   "execution_count": 6,
   "id": "f32d1bf7",
   "metadata": {},
   "outputs": [
    {
     "name": "stdout",
     "output_type": "stream",
     "text": [
      "Anger Completed\n",
      "Contempt Completed\n",
      "Disgust Completed\n",
      "Fear Completed\n",
      "Happy Completed\n",
      "Neutral Completed\n",
      "Sad Completed\n",
      "Surprised Completed\n"
     ]
    }
   ],
   "source": [
    "train = pd.DataFrame()\n",
    "train['image'], train['label'] = createdataframe(Train_dir)"
   ]
  },
  {
   "cell_type": "code",
   "execution_count": 7,
   "id": "232ec65d",
   "metadata": {},
   "outputs": [
    {
     "name": "stdout",
     "output_type": "stream",
     "text": [
      "                                                 image      label\n",
      "0      C:/Users/Sbala/Emotion/Images/Train\\Anger\\0.jpg      Anger\n",
      "1      C:/Users/Sbala/Emotion/Images/Train\\Anger\\1.jpg      Anger\n",
      "2     C:/Users/Sbala/Emotion/Images/Train\\Anger\\10.jpg      Anger\n",
      "3     C:/Users/Sbala/Emotion/Images/Train\\Anger\\11.jpg      Anger\n",
      "4     C:/Users/Sbala/Emotion/Images/Train\\Anger\\12.jpg      Anger\n",
      "..                                                 ...        ...\n",
      "147  C:/Users/Sbala/Emotion/Images/Train\\Surprised\\...  Surprised\n",
      "148  C:/Users/Sbala/Emotion/Images/Train\\Surprised\\...  Surprised\n",
      "149  C:/Users/Sbala/Emotion/Images/Train\\Surprised\\...  Surprised\n",
      "150  C:/Users/Sbala/Emotion/Images/Train\\Surprised\\...  Surprised\n",
      "151  C:/Users/Sbala/Emotion/Images/Train\\Surprised\\...  Surprised\n",
      "\n",
      "[152 rows x 2 columns]\n"
     ]
    }
   ],
   "source": [
    "print(train)"
   ]
  },
  {
   "cell_type": "code",
   "execution_count": 33,
   "id": "985047d4",
   "metadata": {},
   "outputs": [
    {
     "name": "stdout",
     "output_type": "stream",
     "text": [
      "Anger Completed\n",
      "Contempt Completed\n",
      "Disgust Completed\n",
      "Fear Completed\n",
      "Happy Completed\n",
      "Neutral Completed\n",
      "Sad Completed\n",
      "Surprised Completed\n"
     ]
    }
   ],
   "source": [
    "test = pd.DataFrame()\n",
    "test['image'], test['label'] = createdataframe(Test_dir)\n",
    "test.to_csv(\"test.csv\")"
   ]
  },
  {
   "cell_type": "code",
   "execution_count": 32,
   "id": "0d068cf1",
   "metadata": {},
   "outputs": [
    {
     "name": "stdout",
     "output_type": "stream",
     "text": [
      "                                                 image      label\n",
      "0       C:/Users/Sbala/Emotion/Images/Test\\Anger\\0.jpg      Anger\n",
      "1       C:/Users/Sbala/Emotion/Images/Test\\Anger\\1.jpg      Anger\n",
      "2      C:/Users/Sbala/Emotion/Images/Test\\Anger\\10.jpg      Anger\n",
      "3      C:/Users/Sbala/Emotion/Images/Test\\Anger\\11.jpg      Anger\n",
      "4      C:/Users/Sbala/Emotion/Images/Test\\Anger\\12.jpg      Anger\n",
      "..                                                 ...        ...\n",
      "147  C:/Users/Sbala/Emotion/Images/Test\\Surprised\\5...  Surprised\n",
      "148  C:/Users/Sbala/Emotion/Images/Test\\Surprised\\6...  Surprised\n",
      "149  C:/Users/Sbala/Emotion/Images/Test\\Surprised\\7...  Surprised\n",
      "150  C:/Users/Sbala/Emotion/Images/Test\\Surprised\\8...  Surprised\n",
      "151  C:/Users/Sbala/Emotion/Images/Test\\Surprised\\9...  Surprised\n",
      "\n",
      "[152 rows x 2 columns]\n",
      "0         C:/Users/Sbala/Emotion/Images/Test\\Anger\\0.jpg\n",
      "1         C:/Users/Sbala/Emotion/Images/Test\\Anger\\1.jpg\n",
      "2        C:/Users/Sbala/Emotion/Images/Test\\Anger\\10.jpg\n",
      "3        C:/Users/Sbala/Emotion/Images/Test\\Anger\\11.jpg\n",
      "4        C:/Users/Sbala/Emotion/Images/Test\\Anger\\12.jpg\n",
      "                             ...                        \n",
      "147    C:/Users/Sbala/Emotion/Images/Test\\Surprised\\5...\n",
      "148    C:/Users/Sbala/Emotion/Images/Test\\Surprised\\6...\n",
      "149    C:/Users/Sbala/Emotion/Images/Test\\Surprised\\7...\n",
      "150    C:/Users/Sbala/Emotion/Images/Test\\Surprised\\8...\n",
      "151    C:/Users/Sbala/Emotion/Images/Test\\Surprised\\9...\n",
      "Name: image, Length: 152, dtype: object\n"
     ]
    }
   ],
   "source": [
    "print(test)\n",
    "print(test['image'])"
   ]
  },
  {
   "cell_type": "code",
   "execution_count": 10,
   "id": "9215d06b",
   "metadata": {},
   "outputs": [],
   "source": [
    "from tqdm.notebook import tqdm"
   ]
  },
  {
   "cell_type": "code",
   "execution_count": 26,
   "id": "faa6bf39",
   "metadata": {},
   "outputs": [],
   "source": [
    "from PIL import Image\n",
    "import os\n",
    "\n",
    "def resize_images_in_folders(root_folder, target_size=(150,150)):\n",
    "    \"\"\"\n",
    "    Resizes all images in all sub-folders of the root folder to the target size.\n",
    "    \n",
    "    Parameters:\n",
    "    - root_folder: The path to the root folder containing the sub-folders.\n",
    "    - target_size: The target size as a tuple (width, height).\n",
    "    \"\"\"\n",
    "    \n",
    "    # List all sub-folders in the root folder\n",
    "    subfolders = [f.path for f in os.scandir(root_folder) if f.is_dir()]\n",
    "\n",
    "    for folder_path in subfolders:\n",
    "        # List all files in the sub-folder\n",
    "        files = os.listdir(folder_path)\n",
    "\n",
    "        for file in files:\n",
    "            # Check if the file is an image\n",
    "            if file.endswith('.jpg') or file.endswith('.png'):  # Add or modify the condition based on your image file type\n",
    "                # Open the image file\n",
    "                img = Image.open(os.path.join(folder_path, file))\n",
    "\n",
    "                # Resize the image\n",
    "                img = img.resize(target_size, Image.ANTIALIAS)\n",
    "\n",
    "                # Save the image back to disk\n",
    "                img.save(os.path.join(folder_path, file))\n",
    "\n",
    "\n",
    "# Call the function\n",
    "resize_images_in_folders(\"C:/Users/Sbala/Emotion/Images/Train\")\n",
    "resize_images_in_folders(\"C:/Users/Sbala/Emotion/Images/Test\")"
   ]
  },
  {
   "cell_type": "code",
   "execution_count": 12,
   "id": "2de55969",
   "metadata": {},
   "outputs": [],
   "source": [
    "def extract_features(images):\n",
    "    features =[]\n",
    "    for image in tqdm(images):\n",
    "        img = load_img(image, grayscale = True)\n",
    "        img = np.array(img)\n",
    "        features.append(img)\n",
    "#         print(features)\n",
    "#         print(len(features))\n",
    "#     print(\"=======\")\n",
    "#     print(features)\n",
    "    features = np.array(features)\n",
    "    features = features.reshape(len(features),150,150,1)\n",
    "    return features"
   ]
  },
  {
   "cell_type": "code",
   "execution_count": 13,
   "id": "e975fd3a",
   "metadata": {},
   "outputs": [
    {
     "data": {
      "application/vnd.jupyter.widget-view+json": {
       "model_id": "59b612f4590f4173876363d773758810",
       "version_major": 2,
       "version_minor": 0
      },
      "text/plain": [
       "  0%|          | 0/152 [00:00<?, ?it/s]"
      ]
     },
     "metadata": {},
     "output_type": "display_data"
    },
    {
     "name": "stderr",
     "output_type": "stream",
     "text": [
      "D:\\Akshaya\\Annnnacoonda\\lib\\site-packages\\keras_preprocessing\\image\\utils.py:107: UserWarning: grayscale is deprecated. Please use color_mode = \"grayscale\"\n",
      "  warnings.warn('grayscale is deprecated. Please use '\n"
     ]
    }
   ],
   "source": [
    "train_features = extract_features(train['image'])"
   ]
  },
  {
   "cell_type": "code",
   "execution_count": 14,
   "id": "b022cbcb",
   "metadata": {},
   "outputs": [
    {
     "data": {
      "application/vnd.jupyter.widget-view+json": {
       "model_id": "dfe820e58dd54b5e8ead29c256404743",
       "version_major": 2,
       "version_minor": 0
      },
      "text/plain": [
       "  0%|          | 0/152 [00:00<?, ?it/s]"
      ]
     },
     "metadata": {},
     "output_type": "display_data"
    }
   ],
   "source": [
    "test_features = extract_features(train['image'])"
   ]
  },
  {
   "cell_type": "code",
   "execution_count": 15,
   "id": "3d379778",
   "metadata": {},
   "outputs": [],
   "source": [
    "x_train=train_features/255.0\n",
    "x_test=test_features/255.0"
   ]
  },
  {
   "cell_type": "code",
   "execution_count": 20,
   "id": "18e3304b",
   "metadata": {},
   "outputs": [],
   "source": [
    "from sklearn.preprocessing import LabelEncoder"
   ]
  },
  {
   "cell_type": "code",
   "execution_count": 21,
   "id": "590da535",
   "metadata": {},
   "outputs": [
    {
     "data": {
      "text/html": [
       "<style>#sk-container-id-1 {color: black;}#sk-container-id-1 pre{padding: 0;}#sk-container-id-1 div.sk-toggleable {background-color: white;}#sk-container-id-1 label.sk-toggleable__label {cursor: pointer;display: block;width: 100%;margin-bottom: 0;padding: 0.3em;box-sizing: border-box;text-align: center;}#sk-container-id-1 label.sk-toggleable__label-arrow:before {content: \"▸\";float: left;margin-right: 0.25em;color: #696969;}#sk-container-id-1 label.sk-toggleable__label-arrow:hover:before {color: black;}#sk-container-id-1 div.sk-estimator:hover label.sk-toggleable__label-arrow:before {color: black;}#sk-container-id-1 div.sk-toggleable__content {max-height: 0;max-width: 0;overflow: hidden;text-align: left;background-color: #f0f8ff;}#sk-container-id-1 div.sk-toggleable__content pre {margin: 0.2em;color: black;border-radius: 0.25em;background-color: #f0f8ff;}#sk-container-id-1 input.sk-toggleable__control:checked~div.sk-toggleable__content {max-height: 200px;max-width: 100%;overflow: auto;}#sk-container-id-1 input.sk-toggleable__control:checked~label.sk-toggleable__label-arrow:before {content: \"▾\";}#sk-container-id-1 div.sk-estimator input.sk-toggleable__control:checked~label.sk-toggleable__label {background-color: #d4ebff;}#sk-container-id-1 div.sk-label input.sk-toggleable__control:checked~label.sk-toggleable__label {background-color: #d4ebff;}#sk-container-id-1 input.sk-hidden--visually {border: 0;clip: rect(1px 1px 1px 1px);clip: rect(1px, 1px, 1px, 1px);height: 1px;margin: -1px;overflow: hidden;padding: 0;position: absolute;width: 1px;}#sk-container-id-1 div.sk-estimator {font-family: monospace;background-color: #f0f8ff;border: 1px dotted black;border-radius: 0.25em;box-sizing: border-box;margin-bottom: 0.5em;}#sk-container-id-1 div.sk-estimator:hover {background-color: #d4ebff;}#sk-container-id-1 div.sk-parallel-item::after {content: \"\";width: 100%;border-bottom: 1px solid gray;flex-grow: 1;}#sk-container-id-1 div.sk-label:hover label.sk-toggleable__label {background-color: #d4ebff;}#sk-container-id-1 div.sk-serial::before {content: \"\";position: absolute;border-left: 1px solid gray;box-sizing: border-box;top: 0;bottom: 0;left: 50%;z-index: 0;}#sk-container-id-1 div.sk-serial {display: flex;flex-direction: column;align-items: center;background-color: white;padding-right: 0.2em;padding-left: 0.2em;position: relative;}#sk-container-id-1 div.sk-item {position: relative;z-index: 1;}#sk-container-id-1 div.sk-parallel {display: flex;align-items: stretch;justify-content: center;background-color: white;position: relative;}#sk-container-id-1 div.sk-item::before, #sk-container-id-1 div.sk-parallel-item::before {content: \"\";position: absolute;border-left: 1px solid gray;box-sizing: border-box;top: 0;bottom: 0;left: 50%;z-index: -1;}#sk-container-id-1 div.sk-parallel-item {display: flex;flex-direction: column;z-index: 1;position: relative;background-color: white;}#sk-container-id-1 div.sk-parallel-item:first-child::after {align-self: flex-end;width: 50%;}#sk-container-id-1 div.sk-parallel-item:last-child::after {align-self: flex-start;width: 50%;}#sk-container-id-1 div.sk-parallel-item:only-child::after {width: 0;}#sk-container-id-1 div.sk-dashed-wrapped {border: 1px dashed gray;margin: 0 0.4em 0.5em 0.4em;box-sizing: border-box;padding-bottom: 0.4em;background-color: white;}#sk-container-id-1 div.sk-label label {font-family: monospace;font-weight: bold;display: inline-block;line-height: 1.2em;}#sk-container-id-1 div.sk-label-container {text-align: center;}#sk-container-id-1 div.sk-container {/* jupyter's `normalize.less` sets `[hidden] { display: none; }` but bootstrap.min.css set `[hidden] { display: none !important; }` so we also need the `!important` here to be able to override the default hidden behavior on the sphinx rendered scikit-learn.org. See: https://github.com/scikit-learn/scikit-learn/issues/21755 */display: inline-block !important;position: relative;}#sk-container-id-1 div.sk-text-repr-fallback {display: none;}</style><div id=\"sk-container-id-1\" class=\"sk-top-container\"><div class=\"sk-text-repr-fallback\"><pre>LabelEncoder()</pre><b>In a Jupyter environment, please rerun this cell to show the HTML representation or trust the notebook. <br />On GitHub, the HTML representation is unable to render, please try loading this page with nbviewer.org.</b></div><div class=\"sk-container\" hidden><div class=\"sk-item\"><div class=\"sk-estimator sk-toggleable\"><input class=\"sk-toggleable__control sk-hidden--visually\" id=\"sk-estimator-id-1\" type=\"checkbox\" checked><label for=\"sk-estimator-id-1\" class=\"sk-toggleable__label sk-toggleable__label-arrow\">LabelEncoder</label><div class=\"sk-toggleable__content\"><pre>LabelEncoder()</pre></div></div></div></div></div>"
      ],
      "text/plain": [
       "LabelEncoder()"
      ]
     },
     "execution_count": 21,
     "metadata": {},
     "output_type": "execute_result"
    }
   ],
   "source": [
    "le=LabelEncoder()\n",
    "le.fit(train['label'])"
   ]
  },
  {
   "cell_type": "code",
   "execution_count": 22,
   "id": "debad86f",
   "metadata": {},
   "outputs": [],
   "source": [
    "y_train=le.transform(train['label'])\n",
    "y_test=le.transform(test['label'])\n"
   ]
  },
  {
   "cell_type": "code",
   "execution_count": 23,
   "id": "ff41e19b",
   "metadata": {},
   "outputs": [],
   "source": [
    "y_train=to_categorical(y_train,num_classes=8)\n",
    "y_test=to_categorical(y_test,num_classes=8)"
   ]
  },
  {
   "cell_type": "code",
   "execution_count": 27,
   "id": "ca58056e",
   "metadata": {},
   "outputs": [],
   "source": [
    "model = Sequential()\n",
    "#convolution layers\n",
    "model.add(Conv2D(128, kernel_size=(3,3), activation='relu', input_shape=(150,150,1)))\n",
    "model.add(MaxPooling2D(pool_size=(2,2)))\n",
    "model.add(Dropout(0.4))\n",
    "\n",
    "model.add(Conv2D(256,kernel_size=(3,3), activation='relu'))\n",
    "model.add(MaxPooling2D(pool_size=(2,2)))\n",
    "model.add(Dropout(0.4))\n",
    "\n",
    "model.add(Conv2D(512,kernel_size=(3,3), activation='relu'))\n",
    "model.add(MaxPooling2D(pool_size=(2,2)))\n",
    "model.add(Dropout(0.4))\n",
    "\n",
    "model.add(Conv2D(512,kernel_size=(3,3), activation='relu'))\n",
    "model.add(MaxPooling2D(pool_size=(2,2)))\n",
    "model.add(Dropout(0.4))\n",
    "\n",
    "model.add(Flatten())\n",
    "#fully connected layers\n",
    "model.add(Dense(512, activation='relu'))\n",
    "model.add(Dropout(0.4))\n",
    "\n",
    "model.add(Dense(256, activation='relu'))\n",
    "model.add(Dropout(0.3))\n",
    "\n",
    "#output layer\n",
    "model.add(Dense(8, activation='softmax'))"
   ]
  },
  {
   "cell_type": "code",
   "execution_count": 28,
   "id": "7072b09a",
   "metadata": {},
   "outputs": [],
   "source": [
    "model.compile(optimizer='adam', loss='categorical_crossentropy',metrics='accuracy')"
   ]
  },
  {
   "cell_type": "code",
   "execution_count": 36,
   "id": "6ccfbd7a",
   "metadata": {},
   "outputs": [
    {
     "name": "stdout",
     "output_type": "stream",
     "text": [
      "Epoch 1/100\n",
      "2/2 [==============================] - 111s 34s/step - loss: 2.0784 - accuracy: 0.1645 - val_loss: 2.0795 - val_accuracy: 0.1250\n",
      "Epoch 2/100\n",
      "2/2 [==============================] - 103s 34s/step - loss: 2.0789 - accuracy: 0.0855 - val_loss: 2.0795 - val_accuracy: 0.1250\n",
      "Epoch 3/100\n",
      "2/2 [==============================] - 114s 39s/step - loss: 2.0798 - accuracy: 0.1053 - val_loss: 2.0795 - val_accuracy: 0.1250\n",
      "Epoch 4/100\n",
      "2/2 [==============================] - 120s 36s/step - loss: 2.0793 - accuracy: 0.1447 - val_loss: 2.0795 - val_accuracy: 0.1250\n",
      "Epoch 5/100\n",
      "2/2 [==============================] - 103s 34s/step - loss: 2.0795 - accuracy: 0.1316 - val_loss: 2.0795 - val_accuracy: 0.1382\n",
      "Epoch 6/100\n",
      "2/2 [==============================] - 106s 34s/step - loss: 2.0790 - accuracy: 0.1447 - val_loss: 2.0795 - val_accuracy: 0.1250\n",
      "Epoch 7/100\n",
      "2/2 [==============================] - 101s 34s/step - loss: 2.0788 - accuracy: 0.1382 - val_loss: 2.0796 - val_accuracy: 0.1250\n",
      "Epoch 8/100\n",
      "2/2 [==============================] - 104s 35s/step - loss: 2.0785 - accuracy: 0.1053 - val_loss: 2.0797 - val_accuracy: 0.1250\n",
      "Epoch 9/100\n",
      "2/2 [==============================] - 112s 35s/step - loss: 2.0776 - accuracy: 0.1908 - val_loss: 2.0797 - val_accuracy: 0.1184\n",
      "Epoch 10/100\n",
      "2/2 [==============================] - 107s 37s/step - loss: 2.0862 - accuracy: 0.0987 - val_loss: 2.0798 - val_accuracy: 0.1250\n",
      "Epoch 11/100\n",
      "2/2 [==============================] - 156s 88s/step - loss: 2.0834 - accuracy: 0.0987 - val_loss: 2.0797 - val_accuracy: 0.1250\n",
      "Epoch 12/100\n",
      "2/2 [==============================] - 63s 19s/step - loss: 2.0802 - accuracy: 0.1382 - val_loss: 2.0796 - val_accuracy: 0.1250\n",
      "Epoch 13/100\n",
      "2/2 [==============================] - 56s 19s/step - loss: 2.0822 - accuracy: 0.1184 - val_loss: 2.0796 - val_accuracy: 0.1250\n",
      "Epoch 14/100\n",
      "2/2 [==============================] - 69s 31s/step - loss: 2.0818 - accuracy: 0.0987 - val_loss: 2.0796 - val_accuracy: 0.1250\n",
      "Epoch 15/100\n",
      "2/2 [==============================] - 53s 20s/step - loss: 2.0795 - accuracy: 0.1184 - val_loss: 2.0796 - val_accuracy: 0.1250\n",
      "Epoch 16/100\n",
      "2/2 [==============================] - 53s 18s/step - loss: 2.0799 - accuracy: 0.1382 - val_loss: 2.0796 - val_accuracy: 0.1250\n",
      "Epoch 17/100\n",
      "2/2 [==============================] - 54s 20s/step - loss: 2.0802 - accuracy: 0.1513 - val_loss: 2.0796 - val_accuracy: 0.1250\n",
      "Epoch 18/100\n",
      "2/2 [==============================] - 59s 21s/step - loss: 2.0798 - accuracy: 0.1579 - val_loss: 2.0796 - val_accuracy: 0.1250\n",
      "Epoch 19/100\n",
      "2/2 [==============================] - 57s 20s/step - loss: 2.0791 - accuracy: 0.1184 - val_loss: 2.0797 - val_accuracy: 0.1250\n",
      "Epoch 20/100\n",
      "2/2 [==============================] - 53s 19s/step - loss: 2.0798 - accuracy: 0.1316 - val_loss: 2.0797 - val_accuracy: 0.1250\n",
      "Epoch 21/100\n",
      "2/2 [==============================] - 60s 20s/step - loss: 2.0796 - accuracy: 0.1447 - val_loss: 2.0797 - val_accuracy: 0.1250\n",
      "Epoch 22/100\n",
      "2/2 [==============================] - 57s 22s/step - loss: 2.0806 - accuracy: 0.0921 - val_loss: 2.0797 - val_accuracy: 0.1250\n",
      "Epoch 23/100\n",
      "2/2 [==============================] - 63s 19s/step - loss: 2.0787 - accuracy: 0.1447 - val_loss: 2.0797 - val_accuracy: 0.1250\n",
      "Epoch 24/100\n",
      "2/2 [==============================] - 59s 19s/step - loss: 2.0784 - accuracy: 0.1053 - val_loss: 2.0798 - val_accuracy: 0.1250\n",
      "Epoch 25/100\n",
      "2/2 [==============================] - 56s 20s/step - loss: 2.0789 - accuracy: 0.1250 - val_loss: 2.0798 - val_accuracy: 0.1250\n",
      "Epoch 26/100\n",
      "2/2 [==============================] - 55s 20s/step - loss: 2.0790 - accuracy: 0.1382 - val_loss: 2.0798 - val_accuracy: 0.1250\n",
      "Epoch 27/100\n",
      "2/2 [==============================] - 57s 21s/step - loss: 2.0791 - accuracy: 0.1184 - val_loss: 2.0798 - val_accuracy: 0.1250\n",
      "Epoch 28/100\n",
      "2/2 [==============================] - 67s 20s/step - loss: 2.0796 - accuracy: 0.1250 - val_loss: 2.0798 - val_accuracy: 0.1250\n",
      "Epoch 29/100\n",
      "2/2 [==============================] - 59s 20s/step - loss: 2.0815 - accuracy: 0.0987 - val_loss: 2.0798 - val_accuracy: 0.1250\n",
      "Epoch 30/100\n",
      "2/2 [==============================] - 58s 19s/step - loss: 2.0785 - accuracy: 0.1316 - val_loss: 2.0798 - val_accuracy: 0.1250\n",
      "Epoch 31/100\n",
      "2/2 [==============================] - 58s 20s/step - loss: 2.0811 - accuracy: 0.1053 - val_loss: 2.0798 - val_accuracy: 0.1250\n",
      "Epoch 32/100\n",
      "2/2 [==============================] - 56s 20s/step - loss: 2.0805 - accuracy: 0.1382 - val_loss: 2.0798 - val_accuracy: 0.1250\n",
      "Epoch 33/100\n",
      "2/2 [==============================] - 58s 21s/step - loss: 2.0815 - accuracy: 0.1250 - val_loss: 2.0798 - val_accuracy: 0.1250\n",
      "Epoch 34/100\n",
      "2/2 [==============================] - 59s 20s/step - loss: 2.0792 - accuracy: 0.1184 - val_loss: 2.0798 - val_accuracy: 0.1250\n",
      "Epoch 35/100\n",
      "2/2 [==============================] - 52s 17s/step - loss: 2.0798 - accuracy: 0.1184 - val_loss: 2.0798 - val_accuracy: 0.1250\n",
      "Epoch 36/100\n",
      "2/2 [==============================] - 58s 21s/step - loss: 2.0798 - accuracy: 0.1118 - val_loss: 2.0798 - val_accuracy: 0.1250\n",
      "Epoch 37/100\n",
      "2/2 [==============================] - 58s 20s/step - loss: 2.0789 - accuracy: 0.1513 - val_loss: 2.0798 - val_accuracy: 0.1250\n",
      "Epoch 38/100\n",
      "2/2 [==============================] - 53s 20s/step - loss: 2.0794 - accuracy: 0.1250 - val_loss: 2.0798 - val_accuracy: 0.1250\n",
      "Epoch 39/100\n",
      "2/2 [==============================] - 54s 18s/step - loss: 2.0807 - accuracy: 0.1184 - val_loss: 2.0797 - val_accuracy: 0.1250\n",
      "Epoch 40/100\n",
      "2/2 [==============================] - 52s 19s/step - loss: 2.0787 - accuracy: 0.1316 - val_loss: 2.0797 - val_accuracy: 0.1250\n",
      "Epoch 41/100\n",
      "2/2 [==============================] - 50s 16s/step - loss: 2.0782 - accuracy: 0.0987 - val_loss: 2.0797 - val_accuracy: 0.1250\n",
      "Epoch 42/100\n",
      "2/2 [==============================] - 53s 20s/step - loss: 2.0793 - accuracy: 0.1447 - val_loss: 2.0797 - val_accuracy: 0.1250\n",
      "Epoch 43/100\n",
      "2/2 [==============================] - 55s 20s/step - loss: 2.0801 - accuracy: 0.1250 - val_loss: 2.0796 - val_accuracy: 0.1250\n",
      "Epoch 44/100\n",
      "2/2 [==============================] - 55s 20s/step - loss: 2.0803 - accuracy: 0.1184 - val_loss: 2.0796 - val_accuracy: 0.1250\n",
      "Epoch 45/100\n",
      "2/2 [==============================] - 54s 18s/step - loss: 2.0784 - accuracy: 0.1184 - val_loss: 2.0796 - val_accuracy: 0.1250\n",
      "Epoch 46/100\n",
      "2/2 [==============================] - 50s 16s/step - loss: 2.0791 - accuracy: 0.1645 - val_loss: 2.0796 - val_accuracy: 0.1250\n",
      "Epoch 47/100\n",
      "2/2 [==============================] - 47s 15s/step - loss: 2.0795 - accuracy: 0.1316 - val_loss: 2.0796 - val_accuracy: 0.1250\n",
      "Epoch 48/100\n",
      "2/2 [==============================] - 50s 14s/step - loss: 2.0800 - accuracy: 0.1184 - val_loss: 2.0796 - val_accuracy: 0.1250\n",
      "Epoch 49/100\n",
      "2/2 [==============================] - 49s 15s/step - loss: 2.0785 - accuracy: 0.1645 - val_loss: 2.0796 - val_accuracy: 0.1250\n",
      "Epoch 50/100\n",
      "2/2 [==============================] - 59s 21s/step - loss: 2.0809 - accuracy: 0.1118 - val_loss: 2.0795 - val_accuracy: 0.1250\n",
      "Epoch 51/100\n",
      "2/2 [==============================] - 53s 18s/step - loss: 2.0795 - accuracy: 0.1118 - val_loss: 2.0795 - val_accuracy: 0.1250\n",
      "Epoch 52/100\n",
      "2/2 [==============================] - 50s 17s/step - loss: 2.0800 - accuracy: 0.1382 - val_loss: 2.0795 - val_accuracy: 0.1250\n",
      "Epoch 53/100\n",
      "2/2 [==============================] - 53s 17s/step - loss: 2.0789 - accuracy: 0.1711 - val_loss: 2.0795 - val_accuracy: 0.1250\n",
      "Epoch 54/100\n",
      "2/2 [==============================] - 56s 19s/step - loss: 2.0785 - accuracy: 0.1579 - val_loss: 2.0795 - val_accuracy: 0.1250\n",
      "Epoch 55/100\n",
      "2/2 [==============================] - 56s 19s/step - loss: 2.0787 - accuracy: 0.1908 - val_loss: 2.0795 - val_accuracy: 0.1250\n",
      "Epoch 56/100\n",
      "2/2 [==============================] - 55s 20s/step - loss: 2.0785 - accuracy: 0.1184 - val_loss: 2.0795 - val_accuracy: 0.1250\n",
      "Epoch 57/100\n",
      "2/2 [==============================] - 1302s 1265s/step - loss: 2.0793 - accuracy: 0.1118 - val_loss: 2.0795 - val_accuracy: 0.1250\n",
      "Epoch 58/100\n",
      "2/2 [==============================] - 67s 21s/step - loss: 2.0797 - accuracy: 0.1184 - val_loss: 2.0795 - val_accuracy: 0.1250\n",
      "Epoch 59/100\n"
     ]
    },
    {
     "name": "stdout",
     "output_type": "stream",
     "text": [
      "2/2 [==============================] - 77s 20s/step - loss: 2.0799 - accuracy: 0.1184 - val_loss: 2.0795 - val_accuracy: 0.1250\n",
      "Epoch 60/100\n",
      "2/2 [==============================] - 69s 23s/step - loss: 2.0801 - accuracy: 0.0658 - val_loss: 2.0795 - val_accuracy: 0.1250\n",
      "Epoch 61/100\n",
      "2/2 [==============================] - 64s 19s/step - loss: 2.0792 - accuracy: 0.1184 - val_loss: 2.0795 - val_accuracy: 0.1250\n",
      "Epoch 62/100\n",
      "2/2 [==============================] - 61s 19s/step - loss: 2.0799 - accuracy: 0.0921 - val_loss: 2.0795 - val_accuracy: 0.1250\n",
      "Epoch 63/100\n",
      "2/2 [==============================] - 57s 19s/step - loss: 2.0791 - accuracy: 0.1382 - val_loss: 2.0795 - val_accuracy: 0.1250\n",
      "Epoch 64/100\n",
      "2/2 [==============================] - 54s 19s/step - loss: 2.0797 - accuracy: 0.1513 - val_loss: 2.0795 - val_accuracy: 0.1250\n",
      "Epoch 65/100\n",
      "2/2 [==============================] - 51s 20s/step - loss: 2.0793 - accuracy: 0.1184 - val_loss: 2.0795 - val_accuracy: 0.1250\n",
      "Epoch 66/100\n",
      "2/2 [==============================] - 58s 22s/step - loss: 2.0798 - accuracy: 0.1382 - val_loss: 2.0795 - val_accuracy: 0.1250\n",
      "Epoch 67/100\n",
      "2/2 [==============================] - 55s 19s/step - loss: 2.0799 - accuracy: 0.1250 - val_loss: 2.0795 - val_accuracy: 0.1250\n",
      "Epoch 68/100\n",
      "2/2 [==============================] - 55s 19s/step - loss: 2.0805 - accuracy: 0.1053 - val_loss: 2.0795 - val_accuracy: 0.1250\n",
      "Epoch 69/100\n",
      "2/2 [==============================] - 53s 19s/step - loss: 2.0801 - accuracy: 0.1184 - val_loss: 2.0795 - val_accuracy: 0.1250\n",
      "Epoch 70/100\n",
      "2/2 [==============================] - 55s 20s/step - loss: 2.0800 - accuracy: 0.1118 - val_loss: 2.0795 - val_accuracy: 0.1250\n",
      "Epoch 71/100\n",
      "2/2 [==============================] - 73s 36s/step - loss: 2.0789 - accuracy: 0.1250 - val_loss: 2.0795 - val_accuracy: 0.1250\n",
      "Epoch 72/100\n",
      "2/2 [==============================] - 101s 37s/step - loss: 2.0806 - accuracy: 0.0855 - val_loss: 2.0795 - val_accuracy: 0.1250\n",
      "Epoch 73/100\n",
      "2/2 [==============================] - 99s 37s/step - loss: 2.0796 - accuracy: 0.1118 - val_loss: 2.0795 - val_accuracy: 0.1250\n",
      "Epoch 74/100\n",
      "2/2 [==============================] - 100s 38s/step - loss: 2.0804 - accuracy: 0.1250 - val_loss: 2.0795 - val_accuracy: 0.1250\n",
      "Epoch 75/100\n",
      "2/2 [==============================] - 99s 37s/step - loss: 2.0786 - accuracy: 0.1184 - val_loss: 2.0795 - val_accuracy: 0.1250\n",
      "Epoch 76/100\n",
      "2/2 [==============================] - 100s 37s/step - loss: 2.0793 - accuracy: 0.1250 - val_loss: 2.0796 - val_accuracy: 0.1250\n",
      "Epoch 77/100\n",
      "2/2 [==============================] - 98s 36s/step - loss: 2.0802 - accuracy: 0.1250 - val_loss: 2.0796 - val_accuracy: 0.1250\n",
      "Epoch 78/100\n",
      "2/2 [==============================] - 101s 37s/step - loss: 2.0798 - accuracy: 0.1250 - val_loss: 2.0796 - val_accuracy: 0.1250\n",
      "Epoch 79/100\n",
      "2/2 [==============================] - 100s 37s/step - loss: 2.0799 - accuracy: 0.1250 - val_loss: 2.0796 - val_accuracy: 0.1250\n",
      "Epoch 80/100\n",
      "2/2 [==============================] - 99s 38s/step - loss: 2.0794 - accuracy: 0.1184 - val_loss: 2.0796 - val_accuracy: 0.1250\n",
      "Epoch 81/100\n",
      "2/2 [==============================] - 100s 37s/step - loss: 2.0796 - accuracy: 0.1250 - val_loss: 2.0796 - val_accuracy: 0.1250\n",
      "Epoch 82/100\n",
      "2/2 [==============================] - 99s 37s/step - loss: 2.0803 - accuracy: 0.1316 - val_loss: 2.0796 - val_accuracy: 0.1250\n",
      "Epoch 83/100\n",
      "2/2 [==============================] - 101s 38s/step - loss: 2.0796 - accuracy: 0.1316 - val_loss: 2.0796 - val_accuracy: 0.1250\n",
      "Epoch 84/100\n",
      "2/2 [==============================] - 101s 38s/step - loss: 2.0799 - accuracy: 0.1316 - val_loss: 2.0796 - val_accuracy: 0.1250\n",
      "Epoch 85/100\n",
      "2/2 [==============================] - 95s 33s/step - loss: 2.0802 - accuracy: 0.1250 - val_loss: 2.0796 - val_accuracy: 0.1250\n",
      "Epoch 86/100\n",
      "2/2 [==============================] - 99s 37s/step - loss: 2.0800 - accuracy: 0.1184 - val_loss: 2.0796 - val_accuracy: 0.1250\n",
      "Epoch 87/100\n",
      "2/2 [==============================] - 100s 38s/step - loss: 2.0804 - accuracy: 0.1053 - val_loss: 2.0796 - val_accuracy: 0.1250\n",
      "Epoch 88/100\n",
      "2/2 [==============================] - 99s 37s/step - loss: 2.0803 - accuracy: 0.1447 - val_loss: 2.0796 - val_accuracy: 0.1250\n",
      "Epoch 89/100\n",
      "2/2 [==============================] - 98s 35s/step - loss: 2.0797 - accuracy: 0.0987 - val_loss: 2.0796 - val_accuracy: 0.1250\n",
      "Epoch 90/100\n",
      "2/2 [==============================] - 100s 37s/step - loss: 2.0800 - accuracy: 0.1250 - val_loss: 2.0796 - val_accuracy: 0.1250\n",
      "Epoch 91/100\n",
      "2/2 [==============================] - 101s 36s/step - loss: 2.0788 - accuracy: 0.1513 - val_loss: 2.0796 - val_accuracy: 0.1250\n",
      "Epoch 92/100\n",
      "2/2 [==============================] - 99s 37s/step - loss: 2.0796 - accuracy: 0.1382 - val_loss: 2.0797 - val_accuracy: 0.1250\n",
      "Epoch 93/100\n",
      "2/2 [==============================] - 100s 37s/step - loss: 2.0801 - accuracy: 0.1184 - val_loss: 2.0797 - val_accuracy: 0.1250\n",
      "Epoch 94/100\n",
      "2/2 [==============================] - 99s 36s/step - loss: 2.0799 - accuracy: 0.1053 - val_loss: 2.0797 - val_accuracy: 0.1250\n",
      "Epoch 95/100\n",
      "2/2 [==============================] - 102s 37s/step - loss: 2.0794 - accuracy: 0.1184 - val_loss: 2.0797 - val_accuracy: 0.1250\n",
      "Epoch 96/100\n",
      "2/2 [==============================] - 99s 36s/step - loss: 2.0815 - accuracy: 0.1250 - val_loss: 2.0797 - val_accuracy: 0.1250\n",
      "Epoch 97/100\n",
      "2/2 [==============================] - 95s 33s/step - loss: 2.0796 - accuracy: 0.1250 - val_loss: 2.0797 - val_accuracy: 0.1250\n",
      "Epoch 98/100\n",
      "2/2 [==============================] - 104s 36s/step - loss: 2.0809 - accuracy: 0.1250 - val_loss: 2.0797 - val_accuracy: 0.1250\n",
      "Epoch 99/100\n",
      "2/2 [==============================] - 97s 35s/step - loss: 2.0803 - accuracy: 0.1250 - val_loss: 2.0797 - val_accuracy: 0.1250\n",
      "Epoch 100/100\n",
      "2/2 [==============================] - 102s 35s/step - loss: 2.0791 - accuracy: 0.1250 - val_loss: 2.0798 - val_accuracy: 0.1250\n"
     ]
    },
    {
     "data": {
      "text/plain": [
       "<keras.src.callbacks.History at 0x238288eccd0>"
      ]
     },
     "execution_count": 36,
     "metadata": {},
     "output_type": "execute_result"
    }
   ],
   "source": [
    "model.fit(x=x_train, y=y_train, batch_size=128, epochs=100, validation_data =(x_test,y_test))"
   ]
  },
  {
   "cell_type": "code",
   "execution_count": 37,
   "id": "194d827a",
   "metadata": {},
   "outputs": [
    {
     "name": "stderr",
     "output_type": "stream",
     "text": [
      "D:\\Akshaya\\Annnnacoonda\\lib\\site-packages\\keras\\src\\engine\\training.py:3000: UserWarning: You are saving your model as an HDF5 file via `model.save()`. This file format is considered legacy. We recommend using instead the native Keras format, e.g. `model.save('my_model.keras')`.\n",
      "  saving_api.save_model(\n"
     ]
    }
   ],
   "source": [
    "model_json = model.to_json()\n",
    "with open(\"emotiondetector.json\",'w') as json_file:\n",
    "    json_file.write(model_json)\n",
    "model.save(\"emotiondetector.h5\")"
   ]
  },
  {
   "cell_type": "code",
   "execution_count": 27,
   "id": "d62af846",
   "metadata": {},
   "outputs": [],
   "source": []
  },
  {
   "cell_type": "code",
   "execution_count": null,
   "id": "d28d6706",
   "metadata": {},
   "outputs": [],
   "source": []
  }
 ],
 "metadata": {
  "kernelspec": {
   "display_name": "Python 3 (ipykernel)",
   "language": "python",
   "name": "python3"
  },
  "language_info": {
   "codemirror_mode": {
    "name": "ipython",
    "version": 3
   },
   "file_extension": ".py",
   "mimetype": "text/x-python",
   "name": "python",
   "nbconvert_exporter": "python",
   "pygments_lexer": "ipython3",
   "version": "3.9.12"
  }
 },
 "nbformat": 4,
 "nbformat_minor": 5
}
